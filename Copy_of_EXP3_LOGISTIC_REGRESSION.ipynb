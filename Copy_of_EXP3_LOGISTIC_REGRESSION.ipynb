{
  "nbformat": 4,
  "nbformat_minor": 0,
  "metadata": {
    "colab": {
      "provenance": []
    },
    "kernelspec": {
      "name": "python3",
      "display_name": "Python 3"
    },
    "language_info": {
      "name": "python"
    }
  },
  "cells": [
    {
      "cell_type": "code",
      "execution_count": null,
      "metadata": {
        "colab": {
          "base_uri": "https://localhost:8080/"
        },
        "id": "Aoa7-qLahNg5",
        "outputId": "460c78f5-592a-42eb-a638-3b4a4f822f11"
      },
      "outputs": [
        {
          "output_type": "stream",
          "name": "stdout",
          "text": [
            "           Brand    Year   Model               Car/Suv  \\\n",
            "0      Ssangyong  2022.0  Rexton  Sutherland Isuzu Ute   \n",
            "1             MG  2022.0     MG3             Hatchback   \n",
            "2            BMW  2022.0    430I                 Coupe   \n",
            "3  Mercedes-Benz  2011.0    E500                 Coupe   \n",
            "4        Renault  2022.0  Arkana                   SUV   \n",
            "\n",
            "                                       Title UsedOrNew Transmission  \\\n",
            "0       2022 Ssangyong Rexton Ultimate (awd)      DEMO    Automatic   \n",
            "1  2022 MG MG3 Auto Excite (with Navigation)      USED    Automatic   \n",
            "2                      2022 BMW 430I M Sport      USED    Automatic   \n",
            "3           2011 Mercedes-Benz E500 Elegance      USED    Automatic   \n",
            "4                 2022 Renault Arkana Intens      USED    Automatic   \n",
            "\n",
            "         Engine DriveType  FuelType FuelConsumption Kilometres   ColourExtInt  \\\n",
            "0  4 cyl, 2.2 L       AWD    Diesel  8.7 L / 100 km       5595  White / Black   \n",
            "1  4 cyl, 1.5 L     Front   Premium  6.7 L / 100 km         16  Black / Black   \n",
            "2    4 cyl, 2 L      Rear   Premium  6.6 L / 100 km       8472   Grey / White   \n",
            "3  8 cyl, 5.5 L      Rear   Premium   11 L / 100 km     136517  White / Brown   \n",
            "4  4 cyl, 1.3 L     Front  Unleaded    6 L / 100 km       1035   Grey / Black   \n",
            "\n",
            "            Location CylindersinEngine   BodyType     Doors     Seats   Price  \n",
            "0     Caringbah, NSW             4 cyl        SUV   4 Doors   7 Seats   51990  \n",
            "1     Brookvale, NSW             4 cyl  Hatchback   5 Doors   5 Seats   19990  \n",
            "2      Sylvania, NSW             4 cyl      Coupe   2 Doors   4 Seats  108988  \n",
            "3  Mount Druitt, NSW             8 cyl      Coupe   2 Doors   4 Seats   32990  \n",
            "4   Castle Hill, NSW             4 cyl        SUV   4 Doors   5 Seats   34990  \n",
            "Confusion Matrix:\n",
            " [[2111    0]\n",
            " [   0 2073]]\n",
            "Training Accuracy: 0.9999203187250996\n",
            "Test Accuracy: 1.0\n"
          ]
        }
      ],
      "source": [
        "import pandas as pd\n",
        "import numpy as np\n",
        "from sklearn.model_selection import train_test_split\n",
        "from sklearn.preprocessing import StandardScaler\n",
        "from sklearn.linear_model import LogisticRegression\n",
        "from sklearn.metrics import confusion_matrix, accuracy_score\n",
        "\n",
        "data = pd.read_csv('/content/Australian Vehicle Prices.csv')\n",
        "print(data.head())\n",
        "\n",
        "\n",
        "\n",
        "\n",
        "\n",
        "\n",
        "data[\"Price\"] = pd.to_numeric(data[\"Price\"], errors='coerce')\n",
        "\n",
        "X = data[[\"Year\", \"Price\"]].values\n",
        "y = data[\"Price\"].apply(lambda x: 1 if x > data[\"Price\"].median() else 0).values # Example target based on price median\n",
        "\n",
        "\n",
        "X = np.nan_to_num(X)\n",
        "y = np.nan_to_num(y)\n",
        "\n",
        "\n",
        "X_train, X_test, y_train, y_test = train_test_split(X, y, test_size=0.25, random_state=0)\n",
        "\n",
        "sc = StandardScaler()\n",
        "X_train = sc.fit_transform(X_train)\n",
        "X_test = sc.transform(X_test)\n",
        "\n",
        "model = LogisticRegression()\n",
        "model.fit(X_train, y_train)\n",
        "\n",
        "y_pred = model.predict(X_test)\n",
        "\n",
        "cm = confusion_matrix(y_test, y_pred)\n",
        "print(\"Confusion Matrix:\\n\", cm)\n",
        "\n",
        "train_acc = model.score(X_train, y_train)\n",
        "test_acc = model.score(X_test, y_test)\n",
        "print(\"Training Accuracy:\", train_acc)\n",
        "print(\"Test Accuracy:\", test_acc)"
      ]
    }
  ]
}