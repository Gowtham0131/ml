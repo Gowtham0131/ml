{
  "nbformat": 4,
  "nbformat_minor": 0,
  "metadata": {
    "colab": {
      "provenance": []
    },
    "kernelspec": {
      "name": "python3",
      "display_name": "Python 3"
    },
    "language_info": {
      "name": "python"
    }
  },
  "cells": [
    {
      "cell_type": "code",
      "execution_count": 23,
      "metadata": {
        "id": "zRjHr9B7ZAPz"
      },
      "outputs": [],
      "source": [
        "import numpy as np"
      ]
    },
    {
      "cell_type": "code",
      "source": [
        "X = np.array([[0,0], [0,1], [1,0], [1,1]])\n",
        "Y = np.array([0, 0, 0, 1])"
      ],
      "metadata": {
        "id": "VgtS-1RPaMiR"
      },
      "execution_count": 24,
      "outputs": []
    },
    {
      "cell_type": "code",
      "source": [
        "w = np.array([0.3, -0.2])\n",
        "theta = 0.4\n",
        "bias = -theta\n",
        "lr = 0.2\n"
      ],
      "metadata": {
        "id": "8eujzIgJaRzx"
      },
      "execution_count": 25,
      "outputs": []
    },
    {
      "cell_type": "code",
      "source": [
        "def activation(net):\n",
        "      return 1 if net >= 0 else 0"
      ],
      "metadata": {
        "id": "VrDsyVueaYmc"
      },
      "execution_count": 26,
      "outputs": []
    },
    {
      "cell_type": "code",
      "source": [
        "epochs = 10\n",
        "for epoch in range(epochs):\n",
        "    print(f\"Epoch {epoch+1}\")\n",
        "    error_count = 0\n",
        "    for i in range(len(X)):\n",
        "        x_in = np.dot(X[i], w) + bias\n",
        "        y_pred = activation(x_in)\n",
        "        error = Y[i] - y_pred\n",
        "        if error != 0:\n",
        "            w = w + lr * error * X[i]\n",
        "            bias = bias + lr * error\n",
        "            print(f\" Updated weights: {w}, bias: {bias}\")\n",
        "        else:\n",
        "            print(\" No change\")\n",
        "        error_count += abs(error)\n",
        "    if error_count == 0:\n",
        "        break"
      ],
      "metadata": {
        "colab": {
          "base_uri": "https://localhost:8080/"
        },
        "id": "3Iq1klZvadgp",
        "outputId": "f2f961e0-011a-4a95-80e3-ca15e2827814"
      },
      "execution_count": 27,
      "outputs": [
        {
          "output_type": "stream",
          "name": "stdout",
          "text": [
            "Epoch 1\n",
            " No change\n",
            " No change\n",
            " No change\n",
            " Updated weights: [0.5 0. ], bias: -0.2\n",
            "Epoch 2\n",
            " No change\n",
            " No change\n",
            " Updated weights: [0.3 0. ], bias: -0.4\n",
            " Updated weights: [0.5 0.2], bias: -0.2\n",
            "Epoch 3\n",
            " No change\n",
            " Updated weights: [0.5 0. ], bias: -0.4\n",
            " Updated weights: [0.3 0. ], bias: -0.6000000000000001\n",
            " Updated weights: [0.5 0.2], bias: -0.4000000000000001\n",
            "Epoch 4\n",
            " No change\n",
            " No change\n",
            " Updated weights: [0.3 0.2], bias: -0.6000000000000001\n",
            " Updated weights: [0.5 0.4], bias: -0.4000000000000001\n",
            "Epoch 5\n",
            " No change\n",
            " No change\n",
            " Updated weights: [0.3 0.4], bias: -0.6000000000000001\n",
            " No change\n",
            "Epoch 6\n",
            " No change\n",
            " No change\n",
            " No change\n",
            " No change\n"
          ]
        }
      ]
    },
    {
      "cell_type": "code",
      "source": [
        "print(\"\\nFinal Weights:\", w)\n",
        "print(\"Final Bias:\", bias)\n",
        "print(\"Testing AND Function:\")\n",
        "for i in range(len(X)):\n",
        "    x_in = np.dot(X[i], w) + bias\n",
        "    print(X[i], \"=>\", activation(x_in))"
      ],
      "metadata": {
        "colab": {
          "base_uri": "https://localhost:8080/"
        },
        "id": "gZgWgI_DatEB",
        "outputId": "c2e8c68d-00fc-4113-f6fc-52ac5000dce9"
      },
      "execution_count": 29,
      "outputs": [
        {
          "output_type": "stream",
          "name": "stdout",
          "text": [
            "\n",
            "Final Weights: [0.3 0.4]\n",
            "Final Bias: -0.6000000000000001\n",
            "Testing AND Function:\n",
            "[0 0] => 0\n",
            "[0 1] => 0\n",
            "[1 0] => 0\n",
            "[1 1] => 1\n"
          ]
        }
      ]
    }
  ]
}