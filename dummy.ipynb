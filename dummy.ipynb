{
  "nbformat": 4,
  "nbformat_minor": 0,
  "metadata": {
    "colab": {
      "provenance": []
    },
    "kernelspec": {
      "name": "python3",
      "display_name": "Python 3"
    },
    "language_info": {
      "name": "python"
    }
  },
  "cells": [
    {
      "cell_type": "code",
      "execution_count": 73,
      "metadata": {
        "id": "EYS5lRyRVEyR"
      },
      "outputs": [],
      "source": [
        "import numpy as np\n",
        "import matplotlib.pyplot as plt\n",
        "from sklearn.datasets import load_breast_cancer\n",
        "from sklearn.model_selection import train_test_split\n",
        "from sklearn.preprocessing import StandardScaler\n",
        "from sklearn.tree import DecisionTreeRegressor\n",
        "from sklearn.metrics import (\n",
        "    accuracy_score, precision_score, recall_score, f1_score,\n",
        "            roc_auc_score, roc_curve, confusion_matrix, classification_report\n",
        "                    )"
      ]
    },
    {
      "cell_type": "code",
      "source": [
        "data = load_breast_cancer()\n",
        "X, y = data.data, data.target"
      ],
      "metadata": {
        "id": "W62fdEdpWPxf"
      },
      "execution_count": 74,
      "outputs": []
    },
    {
      "cell_type": "code",
      "source": [
        "X_train, X_test, y_train, y_test = train_test_split(\n",
        "        X, y, test_size=0.2, random_state=42, stratify=y\n",
        "              )"
      ],
      "metadata": {
        "id": "MpSs_4XVWSHF"
      },
      "execution_count": 75,
      "outputs": []
    },
    {
      "cell_type": "code",
      "source": [
        "scaler = StandardScaler()\n",
        "X_train = scaler.fit_transform(X_train)\n",
        "X_test = scaler.transform(X_test)"
      ],
      "metadata": {
        "id": "FUgWERDyWWnM"
      },
      "execution_count": 76,
      "outputs": []
    },
    {
      "cell_type": "code",
      "source": [
        "y_pred_train = np.full(y_train.shape, np.mean(y_train))\n",
        "y_pred_test = np.full(y_test.shape, np.mean(y_train))\n"
      ],
      "metadata": {
        "id": "bSTH-ZqKWZzN"
      },
      "execution_count": 77,
      "outputs": []
    },
    {
      "cell_type": "code",
      "source": [
        "n_estimators = 100\n",
        "learning_rate = 0.1\n"
      ],
      "metadata": {
        "id": "5NK8SZzBWbtt"
      },
      "execution_count": 78,
      "outputs": []
    },
    {
      "cell_type": "code",
      "source": [
        "for i in range(n_estimators):\n",
        "    residuals = y_train - y_pred_train\n",
        "\n",
        "    tree = DecisionTreeRegressor(max_depth=3, random_state=42)\n",
        "    tree.fit(X_train, residuals)\n",
        "\n",
        "    update = tree.predict(X_train)\n",
        "    update_test = tree.predict(X_test)\n",
        "\n",
        "    y_pred_train += learning_rate * update\n",
        "    y_pred_test += learning_rate * update_test\n",
        "\n",
        "    if (i + 1) % 10 == 0:\n",
        "        loss = np.mean((y_train - y_pred_train) ** 2)\n",
        "        print(f\"Iteration {i+1}/{n_estimators} - Training Loss: {loss:.4f}\")"
      ],
      "metadata": {
        "colab": {
          "base_uri": "https://localhost:8080/"
        },
        "id": "pDsqA5JIWeVc",
        "outputId": "5456aa43-eae2-4188-fcd2-c18535946dd9"
      },
      "execution_count": 79,
      "outputs": [
        {
          "output_type": "stream",
          "name": "stdout",
          "text": [
            "Iteration 10/100 - Training Loss: 0.0420\n",
            "Iteration 20/100 - Training Loss: 0.0132\n",
            "Iteration 30/100 - Training Loss: 0.0072\n",
            "Iteration 40/100 - Training Loss: 0.0044\n",
            "Iteration 50/100 - Training Loss: 0.0029\n",
            "Iteration 60/100 - Training Loss: 0.0023\n",
            "Iteration 70/100 - Training Loss: 0.0019\n",
            "Iteration 80/100 - Training Loss: 0.0015\n",
            "Iteration 90/100 - Training Loss: 0.0012\n",
            "Iteration 100/100 - Training Loss: 0.0010\n"
          ]
        }
      ]
    },
    {
      "cell_type": "code",
      "source": [
        " update = tree.predict(X_train)\n",
        " update_test = tree.predict(X_test)"
      ],
      "metadata": {
        "id": "ENIz--wkWibW"
      },
      "execution_count": 80,
      "outputs": []
    },
    {
      "cell_type": "code",
      "source": [
        "   y_pred_train += learning_rate * update\n",
        "   y_pred_test += learning_rate * update_test\n"
      ],
      "metadata": {
        "id": "_vX8tXGoWzZe"
      },
      "execution_count": 81,
      "outputs": []
    },
    {
      "cell_type": "code",
      "source": [
        " if (i + 1) % 10 == 0:\n",
        "      loss = np.mean((y_train - y_pred_train) ** 2)\n",
        "      print(f\"Iteration {i+1}/{n_estimators} - Training Loss: {loss:.4f}\")"
      ],
      "metadata": {
        "colab": {
          "base_uri": "https://localhost:8080/"
        },
        "id": "oH25UnBXXL-1",
        "outputId": "f075d8d7-b7ac-4a9b-c19b-105c5e1df682"
      },
      "execution_count": 82,
      "outputs": [
        {
          "output_type": "stream",
          "name": "stdout",
          "text": [
            "Iteration 100/100 - Training Loss: 0.0010\n"
          ]
        }
      ]
    },
    {
      "cell_type": "code",
      "source": [
        "y_pred_binary = (y_pred_test >= 0.5).astype(int)"
      ],
      "metadata": {
        "id": "1spXQPgMXRcV"
      },
      "execution_count": 83,
      "outputs": []
    },
    {
      "cell_type": "code",
      "source": [
        "acc = accuracy_score(y_test, y_pred_binary)\n",
        "prec = precision_score(y_test, y_pred_binary)\n",
        "rec = recall_score(y_test, y_pred_binary)\n",
        "f1 = f1_score(y_test, y_pred_binary)\n",
        "roc_auc = roc_auc_score(y_test, y_pred_test)\n",
        "cm = confusion_matrix(y_test, y_pred_binary)\n"
      ],
      "metadata": {
        "id": "Y4jLm3qrXVz9"
      },
      "execution_count": 84,
      "outputs": []
    },
    {
      "cell_type": "code",
      "source": [
        "print(\"\\n=== Model Evaluation ===\")\n",
        "print(f\"Accuracy:  {acc:.4f}\")\n",
        "print(f\"Precision: {prec:.4f}\")\n",
        "print(f\"Recall:    {rec:.4f}\")\n",
        "print(f\"F1 Score:  {f1:.4f}\")\n",
        "print(f\"ROC AUC:   {roc_auc:.4f}\")\n",
        "print(\"\\nConfusion Matrix:\\n\", cm)\n",
        "print(\"\\nClassification Report:\\n\", classification_report(y_test, y_pred_binary))"
      ],
      "metadata": {
        "colab": {
          "base_uri": "https://localhost:8080/"
        },
        "id": "PWrg_LN3XZQF",
        "outputId": "16c84783-a634-468e-9d25-fbff0997328e"
      },
      "execution_count": 85,
      "outputs": [
        {
          "output_type": "stream",
          "name": "stdout",
          "text": [
            "\n",
            "=== Model Evaluation ===\n",
            "Accuracy:  0.9386\n",
            "Precision: 0.9452\n",
            "Recall:    0.9583\n",
            "F1 Score:  0.9517\n",
            "ROC AUC:   0.9921\n",
            "\n",
            "Confusion Matrix:\n",
            " [[38  4]\n",
            " [ 3 69]]\n",
            "\n",
            "Classification Report:\n",
            "               precision    recall  f1-score   support\n",
            "\n",
            "           0       0.93      0.90      0.92        42\n",
            "           1       0.95      0.96      0.95        72\n",
            "\n",
            "    accuracy                           0.94       114\n",
            "   macro avg       0.94      0.93      0.93       114\n",
            "weighted avg       0.94      0.94      0.94       114\n",
            "\n"
          ]
        }
      ]
    },
    {
      "cell_type": "code",
      "source": [
        "fpr, tpr, thresholds = roc_curve(y_test, y_pred_test)\n",
        "plt.figure(figsize=(6, 5))\n",
        "plt.plot(fpr, tpr, label=f'ROC Curve (AUC = {roc_auc:.3f})')\n",
        "plt.plot([0, 1], [0, 1], 'k--', label='Random Guess')\n",
        "plt.xlabel(\"False Positive Rate\")\n",
        "plt.ylabel(\"True Positive Rate\")\n",
        "plt.title(\"ROC Curve - Gradient Boosting (Decision Tree Regressor)\")\n",
        "plt.legend()\n",
        "plt.grid(True)\n",
        "plt.show()"
      ],
      "metadata": {
        "id": "wglW2WzYXc0F"
      },
      "execution_count": null,
      "outputs": []
    }
  ]
}
