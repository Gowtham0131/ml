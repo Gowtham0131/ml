{
 "cells": [
  {
   "cell_type": "code",
   "execution_count": 1,
   "id": "673e9d06",
   "metadata": {},
   "outputs": [
    {
     "name": "stdout",
     "output_type": "stream",
     "text": [
      "[1 2 3 4 5]\n"
     ]
    }
   ],
   "source": [
    "import numpy as np \n",
    "arr = np.array([1, 2, 3, 4, 5]) \n",
    "print(arr)"
   ]
  },
  {
   "cell_type": "code",
   "execution_count": 2,
   "id": "23a7e85c",
   "metadata": {},
   "outputs": [
    {
     "name": "stdout",
     "output_type": "stream",
     "text": [
      "Size of each element of list in bytes:  48\n",
      "Size of the whole list in bytes:  48000\n"
     ]
    }
   ],
   "source": [
    "\n",
    "import sys \n",
    "\n",
    "S= range(1000) \n",
    "print(\"Size of each element of list in bytes: \", sys.getsizeof(S)) \n",
    "print(\"Size of the whole list in bytes: \" , sys.getsizeof(S)*len (S)) \n"
   ]
  },
  {
   "cell_type": "code",
   "execution_count": 3,
   "id": "80efdb17",
   "metadata": {},
   "outputs": [
    {
     "name": "stdout",
     "output_type": "stream",
     "text": [
      "42\n"
     ]
    }
   ],
   "source": [
    "arr = np.array(42) \n",
    "print(arr) "
   ]
  },
  {
   "cell_type": "code",
   "execution_count": 6,
   "id": "4a3d391a",
   "metadata": {},
   "outputs": [
    {
     "name": "stdout",
     "output_type": "stream",
     "text": [
      "[[1 2 3]\n",
      " [4 5 6]]\n"
     ]
    }
   ],
   "source": [
    "arr = np.array([[1, 2, 3], [4, 5, 6]]) \n",
    "print(arr) \n"
   ]
  },
  {
   "cell_type": "code",
   "execution_count": 7,
   "id": "3001b51e",
   "metadata": {},
   "outputs": [
    {
     "name": "stdout",
     "output_type": "stream",
     "text": [
      "[[[1 2 3]\n",
      "  [4 5 6]]\n",
      "\n",
      " [[1 2 3]\n",
      "  [4 5 6]]]\n"
     ]
    }
   ],
   "source": [
    "arr = np.array([[[1, 2, 3], [4, 5, 6]], [[1, 2, 3], [4, 5, 6]]]) \n",
    "print(arr) "
   ]
  },
  {
   "cell_type": "code",
   "execution_count": 8,
   "id": "f799dec2",
   "metadata": {},
   "outputs": [
    {
     "name": "stdout",
     "output_type": "stream",
     "text": [
      "[[0. 0.]\n",
      " [0. 0.]\n",
      " [0. 0.]\n",
      " [0. 0.]\n",
      " [0. 0.]]\n"
     ]
    }
   ],
   "source": [
    "zeros_arr = np.zeros((5,2)) \n",
    "eros_arr = np.zeros(5) \n",
    "print(zeros_arr) "
   ]
  },
  {
   "cell_type": "code",
   "execution_count": 10,
   "id": "6e82df98",
   "metadata": {},
   "outputs": [
    {
     "name": "stdout",
     "output_type": "stream",
     "text": [
      "[[0 0 0]\n",
      " [0 0 0]\n",
      " [0 0 0]]\n"
     ]
    }
   ],
   "source": [
    "zeroes=np.zeros((3,3),dtype=np.int64)\n",
    "print(zeroes)"
   ]
  },
  {
   "cell_type": "code",
   "execution_count": 11,
   "id": "a39100c7",
   "metadata": {},
   "outputs": [
    {
     "name": "stdout",
     "output_type": "stream",
     "text": [
      "[[0. 0.]\n",
      " [0. 0.]\n",
      " [0. 0.]]\n",
      "float64\n"
     ]
    }
   ],
   "source": [
    "empty=np.empty((3,2))\n",
    "print(empty)\n",
    "print(empty.dtype)"
   ]
  },
  {
   "cell_type": "code",
   "execution_count": 12,
   "id": "0cb2b84d",
   "metadata": {},
   "outputs": [
    {
     "name": "stdout",
     "output_type": "stream",
     "text": [
      "[[1. 1.]\n",
      " [1. 1.]\n",
      " [1. 1.]]\n",
      "float64\n"
     ]
    }
   ],
   "source": [
    "empty=np.ones((3,2))\n",
    "print(empty)\n",
    "print(empty.dtype)"
   ]
  },
  {
   "cell_type": "code",
   "execution_count": 13,
   "id": "14098844",
   "metadata": {},
   "outputs": [
    {
     "name": "stdout",
     "output_type": "stream",
     "text": [
      "[[1 1]\n",
      " [1 1]\n",
      " [1 1]]\n",
      "int64\n"
     ]
    }
   ],
   "source": [
    "empty=np.ones((3,2),dtype=np.int64)\n",
    "print(empty)\n",
    "print(empty.dtype)"
   ]
  },
  {
   "cell_type": "code",
   "execution_count": 14,
   "id": "47af8555",
   "metadata": {},
   "outputs": [
    {
     "name": "stdout",
     "output_type": "stream",
     "text": [
      "\n",
      " [[1. 0. 0. 0.]\n",
      " [0. 1. 0. 0.]\n",
      " [0. 0. 1. 0.]\n",
      " [0. 0. 0. 1.]]\n"
     ]
    }
   ],
   "source": [
    "identity_matrix=np.eye(4,4)\n",
    "print(\"\\n\",identity_matrix)"
   ]
  },
  {
   "cell_type": "code",
   "execution_count": 15,
   "id": "2e4cc5e9",
   "metadata": {},
   "outputs": [
    {
     "name": "stdout",
     "output_type": "stream",
     "text": [
      "[[1. 0. 0. 0.]\n",
      " [0. 1. 0. 0.]\n",
      " [0. 0. 1. 0.]\n",
      " [0. 0. 0. 1.]]\n"
     ]
    }
   ],
   "source": [
    "identity_matrix=np.eye(4,4)\n",
    "print(identity_matrix)"
   ]
  },
  {
   "cell_type": "code",
   "execution_count": 21,
   "id": "77e7861b",
   "metadata": {},
   "outputs": [
    {
     "name": "stdout",
     "output_type": "stream",
     "text": [
      "[1. 2. 3.] float64\n",
      "[1 2 3] int32\n"
     ]
    }
   ],
   "source": [
    "arr1=np.array([1,2,3],dtype=np.float64)\n",
    "arr2=np.array([1,2,3],dtype=np.int32)\n",
    "print(arr1,arr1.dtype)\n",
    "print(arr2,arr2.dtype)"
   ]
  },
  {
   "cell_type": "code",
   "execution_count": 17,
   "id": "f1d2607d",
   "metadata": {},
   "outputs": [
    {
     "name": "stdout",
     "output_type": "stream",
     "text": [
      "Before converting: [1 2 3] int32\n",
      "after converting: [1. 2. 3.] float32\n"
     ]
    }
   ],
   "source": [
    "a=np.array([1,2,3])\n",
    "print(\"Before converting:\",a,a.dtype)\n",
    "b=a.astype('f')\n",
    "print(\"after converting:\",b,b.dtype)"
   ]
  },
  {
   "cell_type": "code",
   "execution_count": 19,
   "id": "ccc17e92",
   "metadata": {},
   "outputs": [
    {
     "name": "stdout",
     "output_type": "stream",
     "text": [
      "[0 1 2 3 4 5 6 7 8 9] int32\n",
      "[-1.36710334 -1.04235112 -0.36123023  0.12464679  0.72031845  0.66266921\n",
      " -0.36824365  0.62751995 -1.10403    -0.22754526] float64\n",
      "[0. 1. 2. 3. 4. 5. 6. 7. 8. 9.] float64\n",
      "[0 1 2 3 4 5 6 7 8 9] int32\n"
     ]
    }
   ],
   "source": [
    "arr1=np.arange(10)\n",
    "arr2=np.random.randn(10)\n",
    "print(arr1,arr1.dtype)\n",
    "print(arr2,arr2.dtype)\n",
    "b=arr1.astype(arr2.dtype)\n",
    "print(b,b.dtype)\n",
    "c=b.astype('int')\n",
    "print(c,c.dtype)"
   ]
  },
  {
   "cell_type": "code",
   "execution_count": 20,
   "id": "6005ea9d",
   "metadata": {},
   "outputs": [
    {
     "name": "stdout",
     "output_type": "stream",
     "text": [
      "['Hello' 'world' 'numpy']\n"
     ]
    }
   ],
   "source": [
    "str_arr=np.array([\"Hello\",\"world\",\"numpy\"])\n",
    "print(str_arr)"
   ]
  },
  {
   "cell_type": "code",
   "execution_count": 22,
   "id": "79aa522b",
   "metadata": {},
   "outputs": [
    {
     "name": "stdout",
     "output_type": "stream",
     "text": [
      "[5 7 9]\n",
      "[-3 -3 -3]\n",
      "[ 4 10 18]\n",
      "[0.25 0.4  0.5 ]\n",
      "[  1  32 729]\n"
     ]
    }
   ],
   "source": [
    "a=np.array([1,2,3])\n",
    "b=np.array([4,5,6])\n",
    "print(a+b)\n",
    "print(a-b)\n",
    "print(a*b)\n",
    "print(a/b)\n",
    "print(a**b)"
   ]
  },
  {
   "cell_type": "code",
   "execution_count": 24,
   "id": "2c28a914",
   "metadata": {},
   "outputs": [
    {
     "name": "stdout",
     "output_type": "stream",
     "text": [
      "[[ 0  1  2]\n",
      " [ 3  4  5]\n",
      " [ 6  7  8]\n",
      " [ 9 10 11]]\n",
      "\n",
      " [[ 0  4  8]\n",
      " [ 1  5  9]\n",
      " [ 2  6 10]\n",
      " [ 3  7 11]]\n"
     ]
    }
   ],
   "source": [
    "import numpy as np \n",
    "arr = np.arange(12) \n",
    "newarr = arr.reshape(4, 3) \n",
    "print(newarr) \n",
    "newarr = arr.reshape((4, 3), order='F')\n",
    "print(\"\\n\", newarr) \n"
   ]
  },
  {
   "cell_type": "code",
   "execution_count": 34,
   "id": "f893901f",
   "metadata": {},
   "outputs": [
    {
     "name": "stdout",
     "output_type": "stream",
     "text": [
      "Original array:\n",
      " [[10 20]\n",
      " [30 40]]\n",
      "Flattened array: \n",
      " [999  20  30  40]\n",
      "Original array: \n",
      " [[10 20]\n",
      " [30 40]]\n",
      "Raveled array: \n",
      " [ 10 888  30  40]\n",
      "Original array:\n",
      " [[ 10 888]\n",
      " [ 30  40]]\n"
     ]
    }
   ],
   "source": [
    "original_array = np.array([[10, 20], [30, 40]])\n",
    "print(\"Original array:\\n\", original_array) \n",
    "flattened_array = original_array.flatten() \n",
    "flattened_array[0] = 999 \n",
    "print(\"Flattened array: \\n\", flattened_array)\n",
    "print(\"Original array: \\n\", original_array) \n",
    "raveled_array = original_array.ravel() \n",
    "raveled_array [1] = 888 \n",
    "print(\"Raveled array: \\n\", raveled_array)\n",
    "print(\"Original array:\\n\", original_array) \n"
   ]
  },
  {
   "cell_type": "code",
   "execution_count": 39,
   "id": "7b657d92",
   "metadata": {},
   "outputs": [
    {
     "name": "stdout",
     "output_type": "stream",
     "text": [
      "Greater than: \n",
      " [[False  True]\n",
      " [False False]]\n",
      "\n",
      "Less than: \n",
      " [[ True False]\n",
      " [False  True]]\n",
      "\n",
      "Equal to: \n",
      " [[False False]\n",
      " [ True False]]\n",
      "\n",
      "Array-wise comparison 1: True\n",
      "Array-wise comparison 2: False\n"
     ]
    }
   ],
   "source": [
    "arr1 = np.array([[1, 2], [3, 4]])\n",
    "arr2 = np.array([[2, 1], [3, 5]]) \n",
    "greater_than = arr1 > arr2 \n",
    "less_than = arr1 < arr2 \n",
    "equal_to = arr1 == arr2 \n",
    "print(\"Greater than: \\n\", greater_than)\n",
    "print(\"\\nLess than: \\n\", less_than)\n",
    "print(\"\\nEqual to: \\n\", equal_to) \n",
    "arr3 = np.array([1, 2, 3])\n",
    "arr4 = np.array([1, 2, 3])\n",
    "arr5 = np.array([1, 2, 4]) \n",
    "result1= np.array_equal(arr3, arr4) \n",
    "result2 = np.array_equal(arr3, arr5) # False \n",
    "print(\"\\nArray-wise comparison 1:\", result1)\n",
    "print(\"Array-wise comparison 2:\", result2)"
   ]
  },
  {
   "cell_type": "code",
   "execution_count": 43,
   "id": "b66a0b19",
   "metadata": {},
   "outputs": [
    {
     "name": "stdout",
     "output_type": "stream",
     "text": [
      "x=  [0 1 2 3 4 5 6 7 8 9]\n",
      "\n",
      " x[:5]=  [0 1 2 3 4]\n",
      "\n",
      " x[5:]=  [5 6 7 8 9]\n",
      "\n",
      " x[::-1]=  [9 8 7 6 5 4 3 2 1 0]\n"
     ]
    }
   ],
   "source": [
    "x = np.arange(10) \n",
    "print(\"x= \",x)\n",
    "print(\"\\n x[:5]= \",x[:5]) \n",
    "print(\"\\n x[5:]= \",x[5:])\n",
    "print(\"\\n x[::-1]= \",x[::-1])"
   ]
  },
  {
   "cell_type": "code",
   "execution_count": 44,
   "id": "4f8e9bb6",
   "metadata": {},
   "outputs": [
    {
     "name": "stdout",
     "output_type": "stream",
     "text": [
      "[12  5  2  4]\n",
      "8\n",
      "7\n",
      "[12  5  2  4]\n"
     ]
    }
   ],
   "source": [
    "x2 = np.array([[12, 5, 2, 4], [ 7, 6, 8, 8], [ 1, 6, 7, 7]]) \n",
    "print(x2[0])\n",
    "print(x2[1] [2])\n",
    "print(x2 [2, -1])\n",
    "print(x2[0]) "
   ]
  },
  {
   "cell_type": "code",
   "execution_count": 45,
   "id": "6953d85d",
   "metadata": {},
   "outputs": [
    {
     "name": "stdout",
     "output_type": "stream",
     "text": [
      "x2=  [[12  5  2  4]\n",
      " [ 7  6  8  8]\n",
      " [ 1  6  7  7]]\n",
      "\n",
      " x2[:2, :3] = \n",
      " [[12  5  2]\n",
      " [ 7  6  8]]\n",
      "\n",
      " x2[:3, ::2]=\n",
      " [[12  2]\n",
      " [ 7  8]\n",
      " [ 1  7]]\n",
      "\n",
      " x2[::-1,::-1]= \n",
      " [[ 7  7  6  1]\n",
      " [ 8  8  6  7]\n",
      " [ 4  2  5 12]]\n"
     ]
    }
   ],
   "source": [
    "x2 = np.array([[12, 5, 2, 4], [7, 6, 8, 8], [1, 6, 7, 7]]) \n",
    "print(\"x2= \",x2)\n",
    "print(\"\\n x2[:2, :3] = \\n\",x2[:2, :3]) \n",
    "print(\"\\n x2[:3, ::2]=\\n\",x2[:3, ::2])  \n",
    "print(\"\\n x2[::-1,::-1]= \\n\",x2[::-1, ::-1])"
   ]
  },
  {
   "cell_type": "code",
   "execution_count": 46,
   "id": "f0c80f78",
   "metadata": {},
   "outputs": [
    {
     "name": "stdout",
     "output_type": "stream",
     "text": [
      "a= \n",
      " [[ 0  1  2  3]\n",
      " [ 4  5  6  7]\n",
      " [ 8  9 10 11]]\n",
      "b= \n",
      " [[False False False False]\n",
      " [False  True  True  True]\n",
      " [ True  True  True  True]]\n",
      "a[b]= \n",
      " [ 5  6  7  8  9 10 11]\n",
      "a= \n",
      " [[0 1 2 3]\n",
      " [4 1 1 1]\n",
      " [1 1 1 1]]\n"
     ]
    }
   ],
   "source": [
    "import numpy as np \n",
    "a = np.arange(12). reshape (3,4) \n",
    "print(\"a= \\n\",a) \n",
    "b = a > 4 \n",
    "print(\"b= \\n\", b) \n",
    "print(\"a[b]= \\n\",a[b])\n",
    "a [b] = 1 \n",
    "print(\"a= \\n\",a)"
   ]
  },
  {
   "cell_type": "code",
   "execution_count": 48,
   "id": "19d76eef",
   "metadata": {},
   "outputs": [
    {
     "name": "stdout",
     "output_type": "stream",
     "text": [
      "['Bob' 'Joe' 'Will' 'Bob' 'Will' 'Joe' 'Joe']\n",
      "data= \n",
      " [[ 0  1  2  3]\n",
      " [ 4  5  6  7]\n",
      " [ 8  9 10 11]\n",
      " [12 13 14 15]\n",
      " [16 17 18 19]\n",
      " [20 21 22 23]\n",
      " [24 25 26 27]]\n",
      "names bool= \n",
      " [ True False False  True False False False]\n",
      "names == 'Bob' \n",
      " [[ 0  1  2  3]\n",
      " [12 13 14 15]]\n"
     ]
    }
   ],
   "source": [
    "names = np.array(['Bob', 'Joe', 'Will', 'Bob', 'Will', 'Joe', 'Joe']) \n",
    "data = np.arange(28). reshape(7, 4) \n",
    "print(names) \n",
    "print(\"data= \\n\", data) \n",
    "print(\"names bool= \\n\", names == 'Bob')\n",
    "print(\"names == 'Bob' \\n\", data [names == 'Bob']) "
   ]
  },
  {
   "cell_type": "code",
   "execution_count": 49,
   "id": "1be53b24",
   "metadata": {},
   "outputs": [
    {
     "name": "stdout",
     "output_type": "stream",
     "text": [
      "arr= \n",
      " [[ 0  1  2  3]\n",
      " [ 4  5  6  7]\n",
      " [ 8  9 10 11]\n",
      " [12 13 14 15]\n",
      " [16 17 18 19]\n",
      " [20 21 22 23]\n",
      " [24 25 26 27]\n",
      " [28 29 30 31]]\n",
      "\n",
      "arr[[1, 5, 7, 2]]= \n",
      " [[ 4  5  6  7]\n",
      " [20 21 22 23]\n",
      " [28 29 30 31]\n",
      " [ 8  9 10 11]]\n",
      "\n",
      "arr[[1, 5, 7, 2], [0, 3, 1, 2]]= \n",
      " [ 4 23 29 10]\n",
      "\n",
      "arr[[1, 5, 7, 2]][:, [0, 3, 1, 2]]= \n",
      " [[ 4  7  5  6]\n",
      " [20 23 21 22]\n",
      " [28 31 29 30]\n",
      " [ 8 11  9 10]]\n",
      "\n",
      "arr[[-3, -5, -7]]\n",
      " [[20 21 22 23]\n",
      " [12 13 14 15]\n",
      " [ 4  5  6  7]]\n",
      "\n",
      "arr after modification= \n",
      " [[ 0  1  2  3]\n",
      " [ 1  1  1  1]\n",
      " [ 1  1  1  1]\n",
      " [12 13 14 15]\n",
      " [16 17 18 19]\n",
      " [ 1  1  1  1]\n",
      " [24 25 26 27]\n",
      " [ 1  1  1  1]]\n"
     ]
    }
   ],
   "source": [
    "import numpy as np\n",
    "\n",
    "arr = np.arange(32).reshape(8, 4)\n",
    "print(\"arr= \\n\", arr)\n",
    "\n",
    "print(\"\\narr[[1, 5, 7, 2]]= \\n\", arr[[1, 5, 7, 2]])\n",
    "\n",
    "print(\"\\narr[[1, 5, 7, 2], [0, 3, 1, 2]]= \\n\", arr[[1, 5, 7, 2], [0, 3, 1, 2]])\n",
    "\n",
    "print(\"\\narr[[1, 5, 7, 2]][:, [0, 3, 1, 2]]= \\n\", arr[[1, 5, 7, 2]][:, [0, 3, 1, 2]])\n",
    "\n",
    "print(\"\\narr[[-3, -5, -7]]\\n\", arr[[-3, -5, -7]])\n",
    "\n",
    "arr[[1, 5, 7, 2]] = 1\n",
    "print(\"\\narr after modification= \\n\", arr)"
   ]
  },
  {
   "cell_type": "code",
   "execution_count": 50,
   "id": "08adbba0",
   "metadata": {},
   "outputs": [
    {
     "name": "stdout",
     "output_type": "stream",
     "text": [
      "[[ 0  1  2  3]\n",
      " [ 4  5  6  7]\n",
      " [ 8  9 10 11]]\n",
      "Transpose using .T\n",
      "[[ 0  4  8]\n",
      " [ 1  5  9]\n",
      " [ 2  6 10]\n",
      " [ 3  7 11]]\n",
      "Transpose using the transpose() function\n"
     ]
    }
   ],
   "source": [
    "import numpy as np \n",
    "arr = np.arange(12).reshape((3, 4)) \n",
    "print(arr) \n",
    "print(\"Transpose using .T\") \n",
    "print(arr.T) \n",
    "print(\"Transpose using the transpose() function\") \n"
   ]
  },
  {
   "cell_type": "code",
   "execution_count": 51,
   "id": "05557ada",
   "metadata": {},
   "outputs": [
    {
     "name": "stdout",
     "output_type": "stream",
     "text": [
      "Dot product of arr and arr2:\n",
      "[[ 14  38  62]\n",
      " [ 38 126 214]\n",
      " [ 62 214 366]]\n"
     ]
    }
   ],
   "source": [
    "import numpy as np \n",
    "arr = np.arange(12).reshape((3, 4))\n",
    "print(\"Dot product of arr and arr2:\")\n",
    "print(np.dot(arr, arr.T)) \n"
   ]
  },
  {
   "cell_type": "code",
   "execution_count": 52,
   "id": "518d89b3",
   "metadata": {},
   "outputs": [
    {
     "name": "stdout",
     "output_type": "stream",
     "text": [
      "[[ 0  1  2  3]\n",
      " [ 4  5  6  7]\n",
      " [ 8  9 10 11]]\n",
      "Swap axes 0 and 1:\n",
      "[[ 0  4  8]\n",
      " [ 1  5  9]\n",
      " [ 2  6 10]\n",
      " [ 3  7 11]]\n"
     ]
    }
   ],
   "source": [
    "arr = np.arange(12).reshape((3, 4)) \n",
    "print(arr) \n",
    "print(\"Swap axes 0 and 1:\") \n",
    "print(np.swapaxes (arr, 0, 1)) \n"
   ]
  },
  {
   "cell_type": "code",
   "execution_count": 55,
   "id": "8077fa0d",
   "metadata": {},
   "outputs": [
    {
     "name": "stdout",
     "output_type": "stream",
     "text": [
      "Result of element-wise multiplication:\n",
      "[[ 5 12]\n",
      " [21 32]]\n",
      "Result of matrix multiplication:\n",
      "[[19 22]\n",
      " [43 50]]\n"
     ]
    }
   ],
   "source": [
    "import numpy as np \n",
    "arr1 = np.array([[1, 2], \n",
    "[3, 4]]) \n",
    "arr2 = np.array([[5, 6], \n",
    "[7, 8]]) \n",
    "result = np.multiply(arr1, arr2) \n",
    "\n",
    "print(\"Result of element-wise multiplication:\")\n",
    "print(result) \n",
    "result = np.matmul (arr1, arr2) \n",
    "print(\"Result of matrix multiplication:\")\n",
    "print(result) \n"
   ]
  },
  {
   "cell_type": "code",
   "execution_count": null,
   "id": "e02161d6",
   "metadata": {},
   "outputs": [],
   "source": []
  }
 ],
 "metadata": {
  "kernelspec": {
   "display_name": "Python 3 (ipykernel)",
   "language": "python",
   "name": "python3"
  },
  "language_info": {
   "codemirror_mode": {
    "name": "ipython",
    "version": 3
   },
   "file_extension": ".py",
   "mimetype": "text/x-python",
   "name": "python",
   "nbconvert_exporter": "python",
   "pygments_lexer": "ipython3",
   "version": "3.9.12"
  }
 },
 "nbformat": 4,
 "nbformat_minor": 5
}
